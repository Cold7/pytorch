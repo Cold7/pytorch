{
  "nbformat": 4,
  "nbformat_minor": 0,
  "metadata": {
    "colab": {
      "provenance": [],
      "gpuType": "V28"
    },
    "kernelspec": {
      "name": "python3",
      "display_name": "Python 3"
    },
    "language_info": {
      "name": "python"
    },
    "accelerator": "TPU"
  },
  "cells": [
    {
      "cell_type": "code",
      "execution_count": null,
      "metadata": {
        "id": "8T9kZrUX-eAN"
      },
      "outputs": [],
      "source": [
        "#importar librerias\n",
        "import torch\n",
        "import torch.nn as nn\n",
        "import torch.optim as optim #stochastic, adam, etc\n",
        "import torch.nn.functional as F # funciones de activacion como relu o softmax\n",
        "from torch.utils.data import DataLoader #manejo de dataset, creacion de minibatches\n",
        "import torchvision.datasets as datasets #datasets de ejemplos\n",
        "import torchvision.transforms as transforms #transformaciones que podemos hacer en el dataset"
      ]
    },
    {
      "cell_type": "code",
      "source": [
        "#crear red fully-connected\n",
        "class NN(nn.Module):\n",
        "  def __init__(self, input_size, num_classes):\n",
        "    super(NN, self).__init__()\n",
        "    self.fc1 = nn.Linear(input_size,50)\n",
        "    self.fc2 = nn.Linear(50, num_classes)\n",
        "\n",
        "  def forward(self, x):\n",
        "    x = F.relu(self.fc1(x))\n",
        "    x = self.fc2(x)\n",
        "    return x\n",
        "\n",
        "#model = NN(784,10) # 28*28, 10 clases\n",
        "#x = torch.randn(64, 784)\n",
        "#print(model(x).shape)"
      ],
      "metadata": {
        "id": "jV8JQwNz-4mc"
      },
      "execution_count": null,
      "outputs": []
    },
    {
      "cell_type": "code",
      "source": [
        "#configurar dispositivo donde se ejecutara\n",
        "device = torch.device(\"cuda\" if torch.cuda.is_available() else \"cpu\")"
      ],
      "metadata": {
        "id": "gApeZL6T-_Aw"
      },
      "execution_count": null,
      "outputs": []
    },
    {
      "cell_type": "code",
      "source": [
        "#hiperparametros\n",
        "input_size = 784\n",
        "num_classes = 10\n",
        "learning_rate = 0.001\n",
        "batch_size = 64\n",
        "num_epochs = 1"
      ],
      "metadata": {
        "id": "W2U2LeilCrbF"
      },
      "execution_count": null,
      "outputs": []
    },
    {
      "cell_type": "code",
      "source": [
        "#cargando datos\n",
        "train_dataset = datasets.MNIST(root=\"dataset/\",train=True, transform=transforms.ToTensor(), download=True)\n",
        "train_loader = DataLoader(dataset = train_dataset, batch_size = batch_size, shuffle = True)\n",
        "test_dataset = datasets.MNIST(root=\"dataset/\",train=False, transform=transforms.ToTensor(), download=True)\n",
        "test_loader  = DataLoader(dataset = test_dataset, batch_size = batch_size, shuffle = True)"
      ],
      "metadata": {
        "id": "OJ7P4kCYCt_m"
      },
      "execution_count": null,
      "outputs": []
    },
    {
      "cell_type": "code",
      "source": [
        "#inicializar la red\n",
        "model = NN(input_size=input_size, num_classes = num_classes).to(device)"
      ],
      "metadata": {
        "id": "wyIgqLcsCvmq"
      },
      "execution_count": null,
      "outputs": []
    },
    {
      "cell_type": "code",
      "source": [
        "#funcion de perdida y optimizador\n",
        "criterion = nn.CrossEntropyLoss()\n",
        "optimizer = optim.Adam(model.parameters(), lr = learning_rate)"
      ],
      "metadata": {
        "id": "vwZhnEgKCxKI"
      },
      "execution_count": null,
      "outputs": []
    },
    {
      "cell_type": "code",
      "source": [
        "#entrenar la red\n",
        "for epoch in range(num_epochs): #cuantas veces la red ve la imagen\n",
        "  for batch_idx, (data, targets) in enumerate(train_loader):\n",
        "    data = data.to(device=device)\n",
        "    targets = targets.to(device=device)\n",
        "    #print(data.shape) #torch.Size([64, 1, 28, 28]) 64 es el numero de batch, 1 es el canal de iamgen, 28 x 28 es la imagen entonces hay que aplanarlo\n",
        "    data = data.reshape(data.shape[0], -1)\n",
        "    #print(data.shape) #torch.Size([64, 784])\n",
        "\n",
        "\n",
        "    # forward\n",
        "    scores = model(data)\n",
        "    loss = criterion(scores, targets)\n",
        "\n",
        "    #backward\n",
        "    optimizer.zero_grad() # configuramos el gradiente a 0 para cada paso de batch, asi no queda registrado el anterior. ojo que es el batch\n",
        "    loss.backward()\n",
        "\n",
        "    #descenso del gradiente o adam step\n",
        "    optimizer.step()\n",
        "\n",
        "\n",
        "\n"
      ],
      "metadata": {
        "id": "Cln5qkE0CzmE"
      },
      "execution_count": null,
      "outputs": []
    },
    {
      "cell_type": "code",
      "source": [
        "#chequear accuracy en el entrenamiento y en la prueba para ver que tan bueno es el modelo\n",
        "def check_accuracy(loader, model):\n",
        "  if loader.dataset.train:\n",
        "    print(\"Chequeando en training set\")\n",
        "  else:\n",
        "    print(\"chequeando en test set\")\n",
        "  num_correct =  0\n",
        "  num_samples = 0\n",
        "  model.eval()\n",
        "\n",
        "  acc = 0\n",
        "  with torch.no_grad(): #los calculos estan listos, asi que no hay que calcularlos\n",
        "    for x, y in loader:\n",
        "      x = x.to(device = device)\n",
        "      y = y.to(device = device)\n",
        "      x = x.reshape(x.shape[0], -1)\n",
        "\n",
        "      scores = model(x)\n",
        "      _, predictions = scores.max(1) #max de entre las 10 clases\n",
        "      num_correct += (predictions == y).sum()\n",
        "      num_samples += predictions.size(0)\n",
        "\n",
        "    print(f\"obtuve {num_correct}/{num_samples} con accuracy {float(num_correct)/ float(num_samples)*100:.2f}\")\n",
        "    acc = float(num_correct)/ float(num_samples)*100\n",
        "  model.train()\n",
        "  return acc\n",
        "\n",
        "\n",
        "check_accuracy(train_loader, model)\n",
        "check_accuracy(test_loader, model)"
      ],
      "metadata": {
        "colab": {
          "base_uri": "https://localhost:8080/"
        },
        "id": "rJugNNzzC1sR",
        "outputId": "a32e6d28-955f-42f6-ff2f-53fe8a6aa608"
      },
      "execution_count": null,
      "outputs": [
        {
          "output_type": "stream",
          "name": "stdout",
          "text": [
            "Chequeando en training set\n",
            "obtuve 55850/60000 con accuracy 93.08\n",
            "chequeando en test set\n",
            "obtuve 9317/10000 con accuracy 93.17\n"
          ]
        },
        {
          "output_type": "execute_result",
          "data": {
            "text/plain": [
              "93.17"
            ]
          },
          "metadata": {},
          "execution_count": 22
        }
      ]
    }
  ]
}