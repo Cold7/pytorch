{
  "nbformat": 4,
  "nbformat_minor": 0,
  "metadata": {
    "colab": {
      "provenance": [],
      "gpuType": "T4"
    },
    "kernelspec": {
      "name": "python3",
      "display_name": "Python 3"
    },
    "language_info": {
      "name": "python"
    },
    "accelerator": "GPU"
  },
  "cells": [
    {
      "cell_type": "code",
      "execution_count": 1,
      "metadata": {
        "id": "G1mdbcpZQTHw"
      },
      "outputs": [],
      "source": [
        "#tutorial pytorch\n"
      ]
    },
    {
      "cell_type": "code",
      "source": [
        "import torch"
      ],
      "metadata": {
        "id": "3nVoUrA6QVNb"
      },
      "execution_count": 2,
      "outputs": []
    },
    {
      "cell_type": "code",
      "source": [
        "###########################\n",
        "##\n",
        "##1ra parte: tensores\n",
        "##\n",
        "##########################"
      ],
      "metadata": {
        "id": "i1d-XPnMQWwL"
      },
      "execution_count": 3,
      "outputs": []
    },
    {
      "cell_type": "code",
      "source": [
        "device = \"cuda\" if torch.cuda.is_available() else \"cpu\"\n",
        "print(f\"Using {device} device\")"
      ],
      "metadata": {
        "colab": {
          "base_uri": "https://localhost:8080/"
        },
        "id": "6cOVszi7QfTI",
        "outputId": "9b137489-775f-4458-c561-ca83676b5563"
      },
      "execution_count": 4,
      "outputs": [
        {
          "output_type": "stream",
          "name": "stdout",
          "text": [
            "Using cuda device\n"
          ]
        }
      ]
    },
    {
      "cell_type": "code",
      "source": [
        "my_tensor = torch.tensor([[1,2,3],[4,5,6]], dtype = torch.float32, device = device, requires_grad=True)\n",
        "print(my_tensor)\n",
        "print(my_tensor.dtype)\n",
        "print(my_tensor.device)\n",
        "print(my_tensor.shape)\n",
        "print(my_tensor.requires_grad)"
      ],
      "metadata": {
        "colab": {
          "base_uri": "https://localhost:8080/"
        },
        "id": "0_4M6H8dQnOk",
        "outputId": "d9def1c5-3556-4029-93ae-35ae9b8d4eae"
      },
      "execution_count": 7,
      "outputs": [
        {
          "output_type": "stream",
          "name": "stdout",
          "text": [
            "tensor([[1., 2., 3.],\n",
            "        [4., 5., 6.]], device='cuda:0', requires_grad=True)\n",
            "torch.float32\n",
            "cuda:0\n",
            "torch.Size([2, 3])\n",
            "True\n"
          ]
        }
      ]
    },
    {
      "cell_type": "code",
      "source": [
        "#otra forma de iniciar un tensor\n",
        "x = torch.empty(size=(3,3)) #inicia con valores aleatorios\n",
        "print(x)\n",
        "x= torch.zeros(size = (3,3)) #no es necesario el size\n",
        "print(x)\n",
        "x = torch.rand((3,3))\n",
        "print(x)\n",
        "x = torch.ones((3,3))\n",
        "print(x)\n",
        "x = torch.eye(5,5) # matriz identidad, eye es porque suena a I (identity)\n",
        "print(x)\n",
        "x = torch.arange(start=0, end = 5, step = 1)\n",
        "print(x)\n",
        "x = torch.linspace(start = 0.1, end = 1, steps = 10) #parte en 0.1, termina en 1 y tendra 10 valores intermedios (incluiyendo 0.1 y 1)\n",
        "print(x)\n",
        "x = torch.empty(size = (1,5)).normal_(mean=0, std= 1) #al inicio vimos que iniciaba con valores aleatorios, aca le damos una distribuicion, media y desviacion\n",
        "print(x)\n",
        "x = torch.empty(size = (1,5)).uniform_(0,1) #distro uniforme\n",
        "print(x)\n",
        "x = torch.diag((torch.ones(3))) #esencialmente es otra forma de hacer la identidad de 3x3\n",
        "print(x)\n",
        "\n",
        "#iniciar y convertir entre distintos tipos (int, float, double)\n",
        "tensor = torch.arange(4)\n",
        "print(tensor.bool()) #numeros > 0 seran true\n",
        "print(tensor.short()) #int16\n",
        "print(tensor.long()) #int64\n",
        "print(tensor.half()) #float16\n",
        "print(tensor.float()) #float32, uno de los mas usados\n",
        "print(tensor.double()) #float64\n"
      ],
      "metadata": {
        "colab": {
          "base_uri": "https://localhost:8080/"
        },
        "id": "EuqIldJsRFhM",
        "outputId": "b08dedf4-e9c0-4772-a013-9dbdc0561ba3"
      },
      "execution_count": 34,
      "outputs": [
        {
          "output_type": "stream",
          "name": "stdout",
          "text": [
            "tensor([[5.4845e-30, 0.0000e+00, 9.3862e-31],\n",
            "        [4.4493e-41, 1.0000e+00, 1.0000e+00],\n",
            "        [1.0000e+00, 1.0000e+00, 1.0000e+00]])\n",
            "tensor([[0., 0., 0.],\n",
            "        [0., 0., 0.],\n",
            "        [0., 0., 0.]])\n",
            "tensor([[0.9138, 0.9097, 0.2084],\n",
            "        [0.7386, 0.3556, 0.2036],\n",
            "        [0.3187, 0.9254, 0.6875]])\n",
            "tensor([[1., 1., 1.],\n",
            "        [1., 1., 1.],\n",
            "        [1., 1., 1.]])\n",
            "tensor([[1., 0., 0., 0., 0.],\n",
            "        [0., 1., 0., 0., 0.],\n",
            "        [0., 0., 1., 0., 0.],\n",
            "        [0., 0., 0., 1., 0.],\n",
            "        [0., 0., 0., 0., 1.]])\n",
            "tensor([0, 1, 2, 3, 4])\n",
            "tensor([0.1000, 0.2000, 0.3000, 0.4000, 0.5000, 0.6000, 0.7000, 0.8000, 0.9000,\n",
            "        1.0000])\n",
            "tensor([[-0.3312, -0.1585,  2.0747, -0.5291, -0.1167]])\n",
            "tensor([[0.0074, 0.8844, 0.4609, 0.1613, 0.9754]])\n",
            "tensor([[1., 0., 0.],\n",
            "        [0., 1., 0.],\n",
            "        [0., 0., 1.]])\n",
            "tensor([False,  True,  True,  True])\n",
            "tensor([0, 1, 2, 3], dtype=torch.int16)\n",
            "tensor([0, 1, 2, 3])\n",
            "tensor([0., 1., 2., 3.], dtype=torch.float16)\n",
            "tensor([0., 1., 2., 3.])\n",
            "tensor([0., 1., 2., 3.], dtype=torch.float64)\n"
          ]
        }
      ]
    },
    {
      "cell_type": "code",
      "source": [
        "#convertir de numpy a ternsor\n",
        "import numpy as np\n",
        "np_array = np.zeros((5,5))\n",
        "tensor = torch.from_numpy(np_array)\n",
        "print(tensor)\n",
        "np_array_back = tensor.numpy()\n",
        "print(np_array_back)"
      ],
      "metadata": {
        "colab": {
          "base_uri": "https://localhost:8080/"
        },
        "id": "v2JElgnJSk5M",
        "outputId": "cf47b43f-4164-4344-8a12-0e74c266cfd9"
      },
      "execution_count": 38,
      "outputs": [
        {
          "output_type": "stream",
          "name": "stdout",
          "text": [
            "tensor([[0., 0., 0., 0., 0.],\n",
            "        [0., 0., 0., 0., 0.],\n",
            "        [0., 0., 0., 0., 0.],\n",
            "        [0., 0., 0., 0., 0.],\n",
            "        [0., 0., 0., 0., 0.]], dtype=torch.float64)\n",
            "[[0. 0. 0. 0. 0.]\n",
            " [0. 0. 0. 0. 0.]\n",
            " [0. 0. 0. 0. 0.]\n",
            " [0. 0. 0. 0. 0.]\n",
            " [0. 0. 0. 0. 0.]]\n"
          ]
        }
      ]
    },
    {
      "cell_type": "code",
      "source": [
        "#tensor maths\n",
        "x = torch.tensor([1,2,3])\n",
        "y = torch.tensor([9,8,7])\n",
        "\n",
        "#suma, hay varias rformas\n",
        "z1 = torch.empty(3)\n",
        "torch.add(x,y,out=z1)\n",
        "print(z1)\n",
        "\n",
        "z2 = torch.add(x,y)\n",
        "print(z2)\n",
        "\n",
        "z = x + y\n",
        "print(z)\n",
        "\n",
        "#resta tambien hay varias, la mas directa\n",
        "z = x-y\n",
        "print(z)\n",
        "\n",
        "#division\n",
        "z = torch.true_divide(x,y) #(1/9,2/8, 3/7)\n",
        "print(z)\n",
        "\n",
        "########################\n",
        "#\n",
        "# operaciones \"inplace\"\n",
        "#\n",
        "#########################\n",
        "t = torch.zeros(3)\n",
        "t.add_(x)\n",
        "print(t)\n",
        "t += x\n",
        "print(t)\n",
        "\n",
        "#exponenciacion\n",
        "z = x.pow(2)\n",
        "print(z)\n",
        "\n",
        "z = x **2\n",
        "print(z)\n",
        "\n",
        "#division\n",
        "z = x.div(y)\n",
        "print(z)\n",
        "\n",
        "#multiplicacion\n",
        "z = x.mul(y)\n",
        "print(z)\n",
        "\n",
        "\n",
        "\n"
      ],
      "metadata": {
        "colab": {
          "base_uri": "https://localhost:8080/"
        },
        "id": "YfKp42LBU3H-",
        "outputId": "21c2af53-28ca-4632-db45-046bfdb75631"
      },
      "execution_count": 54,
      "outputs": [
        {
          "output_type": "stream",
          "name": "stdout",
          "text": [
            "tensor([10., 10., 10.])\n",
            "tensor([10, 10, 10])\n",
            "tensor([10, 10, 10])\n",
            "tensor([-8, -6, -4])\n",
            "tensor([0.1111, 0.2500, 0.4286])\n",
            "tensor([1., 2., 3.])\n",
            "tensor([2., 4., 6.])\n",
            "tensor([1, 4, 9])\n",
            "tensor([1, 4, 9])\n",
            "tensor([0.1111, 0.2500, 0.4286])\n",
            "tensor([ 9, 16, 21])\n"
          ]
        }
      ]
    },
    {
      "cell_type": "code",
      "source": [
        "###################################\n",
        "#\n",
        "# comparaciones\n",
        "#\n",
        "####################################\n",
        "z = x > 0\n",
        "print(z)\n",
        "z = x < 0\n",
        "print(z)"
      ],
      "metadata": {
        "colab": {
          "base_uri": "https://localhost:8080/"
        },
        "id": "1gPaWRYRXWgV",
        "outputId": "9cff76c7-7dbc-4f7f-cfdd-496112d0a141"
      },
      "execution_count": 57,
      "outputs": [
        {
          "output_type": "stream",
          "name": "stdout",
          "text": [
            "tensor([True, True, True])\n",
            "tensor([False, False, False])\n"
          ]
        }
      ]
    },
    {
      "cell_type": "code",
      "source": [
        "#multiplicacion de matrices\n",
        "x1 = torch.rand((2,5))\n",
        "x2 = torch.rand((5,3)) #2x3\n",
        "x3 = torch.mm(x1,x2) #mm matrix multiplication\n",
        "print(x3)\n",
        "x3 = x1.mm(x2)\n",
        "print(x3)\n",
        "\n",
        "#exponenciacion de matrices\n",
        "matrix_exp = torch.rand((5,5))\n",
        "print(matrix_exp)\n",
        "matrix_exp = matrix_exp.matrix_power(3)\n",
        "print(matrix_exp)\n",
        "\n",
        "#multiplicacion elemento a elemento (element wise mult: ((a,b),(c,d)) x ((a',b'),(c',d')) = ((a*a',b*b'),(c*c',d*d'))\n",
        "x = torch.tensor([1,2,3])\n",
        "y = torch.tensor([9,8,7])\n",
        "z = x * y\n",
        "print(z)\n",
        "\n",
        "#producto cruz (dot product)\n",
        "z = torch.dot(x,y)\n",
        "print(z)\n",
        "\n",
        "#multiplicacion de matrices por lotes (batch matrix multipliocation)\n",
        "batch = 32\n",
        "n = 10\n",
        "m = 20\n",
        "p = 30\n",
        "tensor1 =torch.rand((batch, n,m))\n",
        "print(tensor1)\n",
        "tensor2 =torch.rand((batch, m,p))\n",
        "\n",
        "out_bbmm = torch.bmm(tensor1, tensor2)\n",
        "print(out_bbmm)\n"
      ],
      "metadata": {
        "colab": {
          "base_uri": "https://localhost:8080/"
        },
        "id": "c851vwUgXoSH",
        "outputId": "1ff94d2c-4574-468b-88a7-8a433e167efa"
      },
      "execution_count": 67,
      "outputs": [
        {
          "output_type": "stream",
          "name": "stdout",
          "text": [
            "tensor([[1.0430, 1.2644, 0.6688],\n",
            "        [0.5185, 0.8411, 0.5691]])\n",
            "tensor([[1.0430, 1.2644, 0.6688],\n",
            "        [0.5185, 0.8411, 0.5691]])\n",
            "tensor([[0.9955, 0.2843, 0.0622, 0.7430, 0.8556],\n",
            "        [0.4037, 0.1303, 0.5596, 0.6224, 0.6776],\n",
            "        [0.7501, 0.3609, 0.6338, 0.6006, 0.7045],\n",
            "        [0.2071, 0.8176, 0.1297, 0.4206, 0.6069],\n",
            "        [0.2691, 0.9119, 0.5374, 0.6201, 0.9638]])\n",
            "tensor([[3.8488, 4.5817, 3.0848, 4.9306, 6.4311],\n",
            "        [3.2329, 3.6902, 2.6403, 4.0701, 5.2769],\n",
            "        [4.1825, 4.7704, 3.2315, 5.1770, 6.7327],\n",
            "        [2.7433, 3.3068, 2.3288, 3.4832, 4.5534],\n",
            "        [4.3217, 5.0682, 3.6248, 5.4353, 7.0796]])\n",
            "tensor([ 9, 16, 21])\n",
            "tensor(46)\n",
            "tensor([[[0.3786, 0.8242, 0.9243,  ..., 0.3061, 0.5323, 0.6969],\n",
            "         [0.5432, 0.0441, 0.3426,  ..., 0.5332, 0.3863, 0.2835],\n",
            "         [0.4546, 0.6013, 0.8882,  ..., 0.0953, 0.6560, 0.4104],\n",
            "         ...,\n",
            "         [0.7699, 0.2883, 0.4273,  ..., 0.6530, 0.5895, 0.7312],\n",
            "         [0.7142, 0.3068, 0.5361,  ..., 0.9945, 0.3004, 0.1623],\n",
            "         [0.6886, 0.1537, 0.9885,  ..., 0.9745, 0.5923, 0.1273]],\n",
            "\n",
            "        [[0.8699, 0.6047, 0.2099,  ..., 0.2430, 0.0752, 0.5985],\n",
            "         [0.7883, 0.4666, 0.1414,  ..., 0.5403, 0.8584, 0.9630],\n",
            "         [0.0335, 0.0720, 0.4399,  ..., 0.7999, 0.8194, 0.1517],\n",
            "         ...,\n",
            "         [0.7097, 0.4989, 0.0253,  ..., 0.1280, 0.0782, 0.6907],\n",
            "         [0.7308, 0.6460, 0.9266,  ..., 0.9608, 0.5693, 0.3866],\n",
            "         [0.1996, 0.7255, 0.2818,  ..., 0.5310, 0.7401, 0.9148]],\n",
            "\n",
            "        [[0.2314, 0.9331, 0.1215,  ..., 0.6031, 0.9232, 0.5342],\n",
            "         [0.2143, 0.6169, 0.9006,  ..., 0.9280, 0.8123, 0.6385],\n",
            "         [0.3202, 0.1801, 0.4703,  ..., 0.6290, 0.0310, 0.7435],\n",
            "         ...,\n",
            "         [0.0986, 0.7527, 0.4737,  ..., 0.4127, 0.7350, 0.4464],\n",
            "         [0.4664, 0.2987, 0.5741,  ..., 0.7428, 0.5964, 0.7757],\n",
            "         [0.1752, 0.6968, 0.3991,  ..., 0.5378, 0.9744, 0.6546]],\n",
            "\n",
            "        ...,\n",
            "\n",
            "        [[0.4961, 0.7022, 0.3286,  ..., 0.0608, 0.0582, 0.5587],\n",
            "         [0.9796, 0.0349, 0.7563,  ..., 0.6928, 0.2182, 0.1709],\n",
            "         [0.0166, 0.2571, 0.3052,  ..., 0.9340, 0.1896, 0.4253],\n",
            "         ...,\n",
            "         [0.4826, 0.7478, 0.8173,  ..., 0.6999, 0.2768, 0.6662],\n",
            "         [0.1801, 0.5774, 0.4411,  ..., 0.9649, 0.2294, 0.6325],\n",
            "         [0.6535, 0.6132, 0.4594,  ..., 0.2308, 0.9317, 0.6501]],\n",
            "\n",
            "        [[0.9779, 0.1930, 0.1980,  ..., 0.7852, 0.5704, 0.5690],\n",
            "         [0.9064, 0.7393, 0.4144,  ..., 0.8015, 0.7273, 0.5987],\n",
            "         [0.9418, 0.6377, 0.6597,  ..., 0.2852, 0.7093, 0.5078],\n",
            "         ...,\n",
            "         [0.8043, 0.7328, 0.3172,  ..., 0.3875, 0.2377, 0.9968],\n",
            "         [0.2927, 0.0801, 0.4062,  ..., 0.9116, 0.0960, 0.8097],\n",
            "         [0.5681, 0.2939, 0.0978,  ..., 0.5438, 0.3057, 0.5155]],\n",
            "\n",
            "        [[0.2331, 0.9958, 0.0531,  ..., 0.1872, 0.7393, 0.1125],\n",
            "         [0.8138, 0.0593, 0.9151,  ..., 0.6865, 0.0595, 0.3074],\n",
            "         [0.3161, 0.6533, 0.9942,  ..., 0.1259, 0.5303, 0.9870],\n",
            "         ...,\n",
            "         [0.8451, 0.2876, 0.8565,  ..., 0.4379, 0.4723, 0.5377],\n",
            "         [0.0457, 0.0324, 0.3718,  ..., 0.7733, 0.3117, 0.8520],\n",
            "         [0.3312, 0.8493, 0.6556,  ..., 0.8507, 0.1555, 0.0146]]])\n",
            "tensor([[[5.4773, 5.0234, 6.7409,  ..., 6.0105, 8.0353, 4.4153],\n",
            "         [3.0856, 2.8071, 5.6927,  ..., 3.1972, 5.6775, 3.3922],\n",
            "         [3.4539, 3.2266, 5.0579,  ..., 4.1636, 5.8620, 3.6708],\n",
            "         ...,\n",
            "         [4.0188, 3.2678, 5.8930,  ..., 4.7773, 6.0528, 3.7320],\n",
            "         [4.5158, 3.8698, 5.8184,  ..., 4.3970, 6.4643, 4.1171],\n",
            "         [3.2449, 3.1450, 5.6764,  ..., 4.5209, 5.4359, 3.8832]],\n",
            "\n",
            "        [[6.4935, 4.0284, 6.1629,  ..., 5.3042, 5.1365, 7.4069],\n",
            "         [7.7456, 5.9804, 6.1599,  ..., 6.7925, 5.5871, 8.7002],\n",
            "         [4.9268, 3.9121, 4.4880,  ..., 4.2798, 3.9496, 6.2778],\n",
            "         ...,\n",
            "         [7.1791, 4.8348, 6.0811,  ..., 6.2684, 5.5874, 7.6054],\n",
            "         [7.7511, 5.5672, 6.3654,  ..., 6.4088, 5.6321, 8.1673],\n",
            "         [5.9755, 4.8912, 4.8523,  ..., 5.5695, 4.7742, 7.2596]],\n",
            "\n",
            "        [[5.1047, 6.8939, 5.6463,  ..., 4.5603, 4.3575, 5.4741],\n",
            "         [4.7248, 6.4083, 5.1999,  ..., 4.4367, 4.1725, 5.9469],\n",
            "         [4.6685, 6.2036, 5.3133,  ..., 5.2393, 3.9453, 5.7203],\n",
            "         ...,\n",
            "         [4.9274, 5.8260, 5.7346,  ..., 4.7284, 3.7481, 5.3950],\n",
            "         [4.2540, 6.0824, 5.2421,  ..., 4.7858, 3.9244, 6.0626],\n",
            "         [5.3393, 7.1989, 5.4797,  ..., 5.2814, 4.7554, 5.9715]],\n",
            "\n",
            "        ...,\n",
            "\n",
            "        [[4.7858, 5.1227, 3.5330,  ..., 4.4510, 5.3125, 4.6529],\n",
            "         [4.4459, 4.6572, 3.4488,  ..., 4.6711, 4.7306, 3.8899],\n",
            "         [4.9764, 5.5960, 2.9422,  ..., 5.6786, 5.3563, 4.3762],\n",
            "         ...,\n",
            "         [3.5480, 4.9073, 3.3854,  ..., 3.6640, 4.5145, 3.6304],\n",
            "         [4.3328, 5.2782, 3.0218,  ..., 4.5571, 4.1136, 3.2557],\n",
            "         [4.5354, 5.6845, 3.1900,  ..., 4.6716, 5.2386, 4.1637]],\n",
            "\n",
            "        [[4.9560, 3.3973, 4.7683,  ..., 5.4897, 5.1273, 4.6271],\n",
            "         [4.8255, 3.7866, 5.4657,  ..., 5.8727, 4.7394, 4.9096],\n",
            "         [5.7333, 3.8519, 5.8368,  ..., 6.3232, 6.3572, 5.1083],\n",
            "         ...,\n",
            "         [5.3087, 5.1958, 5.4166,  ..., 6.6357, 5.1967, 5.9887],\n",
            "         [5.4776, 5.3327, 5.4948,  ..., 7.4741, 5.9705, 6.6929],\n",
            "         [4.3773, 3.7955, 4.2029,  ..., 4.8130, 3.8455, 4.5086]],\n",
            "\n",
            "        [[3.6451, 4.0962, 3.3165,  ..., 4.2713, 3.5263, 3.7180],\n",
            "         [4.6108, 5.8301, 4.1839,  ..., 4.2665, 5.2040, 4.3878],\n",
            "         [5.8291, 6.7469, 5.5977,  ..., 6.7403, 6.2390, 5.7358],\n",
            "         ...,\n",
            "         [5.8046, 5.6115, 5.2811,  ..., 5.7122, 5.6576, 5.9769],\n",
            "         [5.5890, 6.0355, 5.3005,  ..., 6.3515, 5.3439, 5.2524],\n",
            "         [4.2878, 5.4946, 4.6534,  ..., 4.3662, 3.8848, 4.4727]]])\n"
          ]
        }
      ]
    },
    {
      "cell_type": "code",
      "source": [
        "#ejemplo de broadcasting\n",
        "x1 = torch.rand((5,5))\n",
        "x2 = torch.rand((1,5))\n",
        "\n",
        "#matematicamente no tiene sentido restar una matriz menos un vector, pero si en pytorch\n",
        "#porque expanden el vector para que calkse con las filas de x1, y a eso se refiere\n",
        "#el termino broadcasting\n",
        "z = x1-x2\n",
        "print(z)\n",
        "\n",
        "z = x1 ** x2\n",
        "print(z)"
      ],
      "metadata": {
        "colab": {
          "base_uri": "https://localhost:8080/"
        },
        "id": "4dj6UZBuY-Rl",
        "outputId": "8e2e5cc9-bb38-45cb-ad45-23ba0d252275"
      },
      "execution_count": 71,
      "outputs": [
        {
          "output_type": "stream",
          "name": "stdout",
          "text": [
            "tensor([[ 0.1372, -0.7495, -0.8277,  0.7091, -0.0548],\n",
            "        [ 0.4916, -0.6721, -0.0845,  0.3957, -0.6009],\n",
            "        [ 0.3117, -0.5124, -0.1498,  0.9053, -0.0183],\n",
            "        [ 0.6162, -0.6733, -0.6807,  0.5823, -0.6018],\n",
            "        [ 0.7203,  0.0091, -0.5009,  0.5864, -0.0870]])\n",
            "tensor([[0.8934, 0.1246, 0.1712, 0.9830, 0.8289],\n",
            "        [0.9595, 0.2169, 0.9140, 0.9492, 0.3122],\n",
            "        [0.9333, 0.3866, 0.8488, 0.9982, 0.8612],\n",
            "        [0.9734, 0.2155, 0.3183, 0.9712, 0.3112],\n",
            "        [0.9834, 0.8653, 0.4981, 0.9716, 0.8004]])\n"
          ]
        }
      ]
    },
    {
      "cell_type": "code",
      "source": [
        "#otras operaciones utiles\n",
        "x = torch.tensor([1,2,3])\n",
        "y = torch.tensor([9,8,7])\n",
        "#suma de los elementos\n",
        "sum_x = torch.sum(x, dim=0) # 0 xq es 1 vector\n",
        "print(sum_x)\n",
        "values, indices = torch.max(x, dim=0 )\n",
        "print(values, indices)\n",
        "values, indices = torch.min(x, dim=0 )\n",
        "print(values, indices)\n",
        "abs_x = torch.abs(x) #valor absoluto\n",
        "print(abs_x)\n",
        "z = torch.argmax(x, dim=0) #lo mismo que torch.max pero solo retorna el indice\n",
        "print(z)\n",
        "z = torch.argmin(x, dim=0) #lo mismo que torch.minx pero solo retorna el indice\n",
        "print(z)\n",
        "mean_x = torch.mean(x.float(), dim = 0) #requiere que sea float\n",
        "print(mean_x)\n",
        "#comparar si 2 elementos son iguales\n",
        "z = torch.eq(x,y)\n",
        "print(z)\n",
        "\n",
        "#sort\n",
        "sorted_y, indices = torch.sort(y, dim = 0, descending = False) # retorna sorted y el indice de posicion anterior\n",
        "print(sorted_y, indices)\n",
        "\n",
        "#compara todos los elementos menores que cero y los vuelve cero y sobre 10 los convierte a 10, pero el argumento max no es necesario\n",
        "z = torch.clamp(x, min = 0, max=10 )\n",
        "print(z)\n",
        "\n",
        "x = torch.tensor([1,0,1,1,1], dtype = torch.bool)\n",
        "print(x)\n",
        "z = torch.any(x) #si al menos 1 es true retorna true\n",
        "print(z)\n",
        "z = torch.all(x) #si todo true retorna true, sino false\n",
        "print(z)"
      ],
      "metadata": {
        "colab": {
          "base_uri": "https://localhost:8080/"
        },
        "id": "pcm67yNjbdhc",
        "outputId": "a9f06d62-45ca-416a-992d-381be3772ad9"
      },
      "execution_count": 101,
      "outputs": [
        {
          "output_type": "stream",
          "name": "stdout",
          "text": [
            "tensor(6)\n",
            "tensor(3) tensor(2)\n",
            "tensor(1) tensor(0)\n",
            "tensor([1, 2, 3])\n",
            "tensor(2)\n",
            "tensor(0)\n",
            "tensor(2.)\n",
            "tensor([False, False, False])\n",
            "tensor([7, 8, 9]) tensor([2, 1, 0])\n",
            "tensor([1, 2, 3])\n",
            "tensor([ True, False,  True,  True,  True])\n",
            "tensor(True)\n",
            "tensor(False)\n"
          ]
        }
      ]
    },
    {
      "cell_type": "code",
      "source": [
        "#indices de tensores\n",
        "batch_size = 10\n",
        "features = 25\n",
        "x = torch.rand((batch_size, features))\n",
        "\n",
        "print(x[0].shape) # lo mismo que x[0,:]\n",
        "\n",
        "print(x[:,0].shape)\n",
        "print(x[2,0:10])\n",
        "x[0,0] = 100\n",
        "\n",
        "x =torch.arange(10)\n",
        "indices = [2,5,8]\n",
        "print(x[indices])\n",
        "\n",
        "x = torch.rand((3,5))\n",
        "\n",
        "rows = torch.tensor([1,0])\n",
        "cols = torch.tensor([4,0])\n",
        "print(x)\n",
        "print(x[rows, cols])\n",
        "\n",
        "#indexacion mas avanzada\n",
        "x = torch.arange(10)\n",
        "print(x)\n",
        "print(x[(x < 2) | (x > 8)])\n",
        "print(x[x.remainder(2) == 0]) #modulo 2 == 0\n",
        "\n"
      ],
      "metadata": {
        "colab": {
          "base_uri": "https://localhost:8080/"
        },
        "id": "yWkfO1Laf64r",
        "outputId": "1bc41ff1-36a1-4692-b4e6-bc6e7babb5fb"
      },
      "execution_count": 126,
      "outputs": [
        {
          "output_type": "stream",
          "name": "stdout",
          "text": [
            "torch.Size([25])\n",
            "torch.Size([10])\n",
            "tensor([0.5075, 0.5146, 0.9790, 0.1086, 0.7360, 0.4482, 0.6863, 0.7858, 0.1259,\n",
            "        0.5855])\n",
            "tensor([2, 5, 8])\n",
            "tensor([[0.3760, 0.9041, 0.7426, 0.9715, 0.5437],\n",
            "        [0.7841, 0.1793, 0.8296, 0.2677, 0.0984],\n",
            "        [0.6695, 0.6297, 0.3794, 0.8832, 0.8665]])\n",
            "tensor([0.0984, 0.3760])\n",
            "tensor([0, 1, 2, 3, 4, 5, 6, 7, 8, 9])\n",
            "tensor([0, 1, 9])\n",
            "tensor([0, 2, 4, 6, 8])\n"
          ]
        }
      ]
    },
    {
      "cell_type": "code",
      "source": [
        "#operaciones utiles\n",
        "\n",
        "print(torch.where(x > 5, x, x*2)) # si el valor es > 5 retorno el valor, sino el valor x2\n",
        "print(torch.tensor([0,0,1,1,2,2,3,4]).unique()) #elementos unicos\n",
        "x = torch.arange(10)\n",
        "print(x.ndimension()) #1 sola dimension\n",
        "print(x.numel()) #numero de elementos en x"
      ],
      "metadata": {
        "colab": {
          "base_uri": "https://localhost:8080/"
        },
        "id": "dS_fPZiejliq",
        "outputId": "a5aae9a9-2058-40e6-b9ff-bb46179af90f"
      },
      "execution_count": 133,
      "outputs": [
        {
          "output_type": "stream",
          "name": "stdout",
          "text": [
            "tensor([ 0,  2,  4,  6,  8, 10,  6,  7,  8,  9])\n",
            "tensor([0, 1, 2, 3, 4])\n",
            "1\n",
            "10\n"
          ]
        }
      ]
    },
    {
      "cell_type": "code",
      "source": [
        "# remodelar (reshape)\n",
        "x = torch.arange(9) #lo convertiremos en 3x3\n",
        "print(x)\n",
        "x_3x3 = x.view(3,3)\n",
        "print(x_3x3)\n",
        "x_3x3 = x.reshape(3,3)\n",
        "print(x_3x3)\n",
        "#view y reshape son similares, view trabaja con tensores contiguos en memoria, reshape no importa xcq hara una copia\n",
        "#por eso reshape es mas seguro, porque puede tirar errores a veces cuando se hacen mas operaciones como\n",
        "#trasponer y luego hacer view(9)\n",
        "\n",
        "#y = x_3x3.t()\n",
        "#print(y)\n",
        "#print(y.view(9))\n",
        "#RuntimeError: view size is not compatible with input tensor's size and stride (at least one dimension spans across two contiguous subspaces). Use .reshape(...) instead.\n",
        "x1 = torch.rand((2,5))\n",
        "x2 = torch.rand((2,5))\n",
        "print(x1)\n",
        "print(x2)\n",
        "print(torch.cat((x1,x2), dim=0).shape) #cat de concatenar\n",
        "print(torch.cat((x1,x2), dim=1).shape) #cat de concatenar\n",
        "\n",
        "z = x1.view(-1) #esto es magia xD sirve para aplanar (flatten) el tensor\n",
        "print(x1)\n",
        "print(z)\n",
        "\n",
        "batch = 64\n",
        "x = torch.rand((batch, 2, 5,5))\n",
        "print(x.shape)\n",
        "z = x.view(batch,-1)\n",
        "print(z.shape)\n",
        "\n",
        "x = torch.arange(10)\n",
        "print(x.unsqueeze(0)) #Returns a new tensor with a dimension of size one inserted at the specified position\n",
        "print(x.unsqueeze(1))\n",
        "\n",
        "x = torch.arange(10).unsqueeze(0).unsqueeze(1) #1xx1x10\n",
        "print(x)"
      ],
      "metadata": {
        "colab": {
          "base_uri": "https://localhost:8080/"
        },
        "id": "hCq7G4xIkTHa",
        "outputId": "60d882df-6263-426e-e942-0435513c846d"
      },
      "execution_count": 164,
      "outputs": [
        {
          "output_type": "stream",
          "name": "stdout",
          "text": [
            "tensor([0, 1, 2, 3, 4, 5, 6, 7, 8])\n",
            "tensor([[0, 1, 2],\n",
            "        [3, 4, 5],\n",
            "        [6, 7, 8]])\n",
            "tensor([[0, 1, 2],\n",
            "        [3, 4, 5],\n",
            "        [6, 7, 8]])\n",
            "tensor([[0.7410, 0.1580, 0.8295, 0.2233, 0.2552],\n",
            "        [0.9794, 0.1956, 0.1242, 0.9615, 0.0320]])\n",
            "tensor([[0.0138, 0.7835, 0.5817, 0.6929, 0.1347],\n",
            "        [0.9367, 0.9354, 0.1527, 0.3859, 0.1143]])\n",
            "torch.Size([4, 5])\n",
            "torch.Size([2, 10])\n",
            "tensor([[0.7410, 0.1580, 0.8295, 0.2233, 0.2552],\n",
            "        [0.9794, 0.1956, 0.1242, 0.9615, 0.0320]])\n",
            "tensor([0.7410, 0.1580, 0.8295, 0.2233, 0.2552, 0.9794, 0.1956, 0.1242, 0.9615,\n",
            "        0.0320])\n",
            "torch.Size([64, 2, 5, 5])\n",
            "torch.Size([64, 50])\n",
            "tensor([[0, 1, 2, 3, 4, 5, 6, 7, 8, 9]])\n",
            "tensor([[0],\n",
            "        [1],\n",
            "        [2],\n",
            "        [3],\n",
            "        [4],\n",
            "        [5],\n",
            "        [6],\n",
            "        [7],\n",
            "        [8],\n",
            "        [9]])\n",
            "tensor([[[0, 1, 2, 3, 4, 5, 6, 7, 8, 9]]])\n"
          ]
        }
      ]
    }
  ]
}